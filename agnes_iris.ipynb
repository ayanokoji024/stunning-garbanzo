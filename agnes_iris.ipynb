{
 "cells": [
  {
   "cell_type": "code",
   "execution_count": 2,
   "metadata": {
    "collapsed": true
   },
   "outputs": [],
   "source": [
    "from sklearn.datasets import load_iris\n",
    "import pandas as pd\n",
    "\n",
    "iris = load_iris()\n",
    "X = pd.DataFrame(data=iris.data, columns=iris.feature_names)\n",
    "y = iris.target\n",
    "from sklearn.preprocessing import StandardScaler\n",
    "\n",
    "# Initialize the StandardScaler\n",
    "scaler = StandardScaler()\n",
    "\n",
    "# Fit the scaler to the features and transform the data\n",
    "X_scaled = scaler.fit_transform(X)\n",
    "\n",
    "# Convert the standardized features back to a DataFrame (optional)\n",
    "X = pd.DataFrame(X_scaled, columns=iris.feature_names)"
   ]
  },
  {
   "cell_type": "code",
   "execution_count": 6,
   "outputs": [
    {
     "name": "stdout",
     "output_type": "stream",
     "text": [
      "['manhattan', 'average', 0.1]\n",
      "0.9333333333333333\n",
      "0.9333333333333333\n"
     ]
    }
   ],
   "source": [
    "from sklearn.metrics import accuracy_score\n",
    "from sklearn.model_selection import train_test_split\n",
    "from sklearn.cluster import AgglomerativeClustering\n",
    "from itertools import product\n",
    "\n",
    "\n",
    "number_of_clusters = 3\n",
    "affinity_values = [\"euclidean\", \"l1\",\"l2\",\"manhattan\", \"cosine\"]\n",
    "linkage_values = ['average', 'complete', 'single']\n",
    "split_values = [i / 100 for i in range(10, 55, 5)]\n",
    "\n",
    "best_model = None\n",
    "best_score = float('-inf')\n",
    "best_train_test_ratio = 0.0\n",
    "best_param_list = []\n",
    "best_pred_y = 0\n",
    "best_test_y = 0\n",
    "\n",
    "# model = KMeans(n_clusters=number_of_clusters, init=init, n_init=5000, max_iter=10000000, tol=1e-7)\n",
    "# train_X, test_X, train_y, test_y = train_test_split(X,y,random_state=None,test_size=0.25)\n",
    "# model.fit(train_X,train_y)\n",
    "# pred_y = model.fit_predict(test_X)\n",
    "# score = accuracy_score(test_y,pred_y)\n",
    "# print(score)\n",
    "\n",
    "\n",
    "for affinity, linkage , split in product(affinity_values, linkage_values, split_values):\n",
    "    train_X, test_X, train_y, test_y = train_test_split(X, y, random_state=None, test_size=split)\n",
    "    model = AgglomerativeClustering(n_clusters=number_of_clusters, affinity=affinity, linkage=linkage)\n",
    "    model.fit(train_X, train_y)\n",
    "    pred_y = model.fit_predict(test_X)\n",
    "    score = accuracy_score(test_y, pred_y)\n",
    "\n",
    "    if score > best_score:\n",
    "        best_score = score\n",
    "        best_train_test_ratio = split\n",
    "        best_model = model\n",
    "        best_param_list = [affinity, linkage, split]\n",
    "        best_pred_y = pred_y\n",
    "        best_test_y = test_y\n",
    "print(best_param_list)\n",
    "print(best_score)\n",
    "print(best_score)"
   ],
   "metadata": {
    "collapsed": false
   }
  },
  {
   "cell_type": "code",
   "execution_count": 7,
   "outputs": [
    {
     "name": "stdout",
     "output_type": "stream",
     "text": [
      "              precision    recall  f1-score   support\n",
      "\n",
      "           0       1.00      1.00      1.00         9\n",
      "           1       0.80      1.00      0.89         4\n",
      "           2       1.00      0.50      0.67         2\n",
      "\n",
      "    accuracy                           0.93        15\n",
      "   macro avg       0.93      0.83      0.85        15\n",
      "weighted avg       0.95      0.93      0.93        15\n",
      "\n",
      "Confusion Matrix: \n",
      "\n",
      "[[9 0 0]\n",
      " [0 4 0]\n",
      " [0 1 1]]\n",
      "\n",
      "\n"
     ]
    },
    {
     "data": {
      "text/plain": "<Figure size 800x600 with 2 Axes>",
      "image/png": "[encoded data removed]"
     },
     "metadata": {},
     "output_type": "display_data"
    },
    {
     "name": "stdout",
     "output_type": "stream",
     "text": [
      "Rand Index: 0.9523809523809523\n",
      "Adjusted Rand Index: 0.902579328261273\n",
      "Mutual Information: 0.7608165264811189\n",
      "Adjusted Mutual Information: 0.8235601470424313\n",
      "Normalized Mutual Information: 0.8544403376689025\n",
      "Silhouette Coefficient: 0.3811261580543803\n",
      "Calinski-Harabasz Index: 191.30360862698998\n",
      "Davies-Bouldin Index: 1.067257040548008\n"
     ]
    }
   ],
   "source": [
    "from matplotlib import pyplot as plt\n",
    "from sklearn.metrics import confusion_matrix, classification_report, ConfusionMatrixDisplay\n",
    "\n",
    "cm = confusion_matrix(best_test_y, best_pred_y)\n",
    "print(classification_report(best_test_y, best_pred_y))\n",
    "print(\"Confusion Matrix: \\n\")\n",
    "print(cm)\n",
    "print(\"\\n\")\n",
    "\n",
    "fig, ax = plt.subplots(figsize=(8, 6))\n",
    "cm_display = (ConfusionMatrixDisplay(confusion_matrix=cm, display_labels=[0, 1, 2]))\n",
    "cm_display.plot(ax=ax, cmap='pink_r', values_format='d')\n",
    "# Add a title and labels\n",
    "ax.set_title('Confusion Matrix for best model in iris dataset classification using agnes clustering')\n",
    "ax.set_xlabel('Predicted Label')\n",
    "ax.set_ylabel('True Label')\n",
    "\n",
    "plt.tight_layout()\n",
    "# Show the Confusion Matrix\n",
    "plt.show()\n",
    "from sklearn import metrics\n",
    "\n",
    "rand_index = metrics.rand_score(best_test_y, best_pred_y)\n",
    "adjusted_rand_index = metrics.adjusted_rand_score(best_test_y, best_pred_y)\n",
    "\n",
    "# Mutual Information and Adjusted Mutual Information\n",
    "mutual_info = metrics.mutual_info_score(best_test_y, best_pred_y)\n",
    "adjusted_mutual_info = metrics.adjusted_mutual_info_score(best_test_y, best_pred_y)\n",
    "normalized_mutual_info = metrics.normalized_mutual_info_score(best_test_y, best_pred_y)\n",
    "\n",
    "# Silhouette Coefficient, Calinski-Harabasz Index, and Davies-Bouldin Index\n",
    "silhouette_coefficient = metrics.silhouette_score(X, y)\n",
    "calinski_harabasz_index = metrics.calinski_harabasz_score(X, y)\n",
    "davies_bouldin_index = metrics.davies_bouldin_score(X, y)\n",
    "\n",
    "print(\"Rand Index:\", rand_index)\n",
    "print(\"Adjusted Rand Index:\", adjusted_rand_index)\n",
    "print(\"Mutual Information:\", mutual_info)\n",
    "print(\"Adjusted Mutual Information:\", adjusted_mutual_info)\n",
    "print(\"Normalized Mutual Information:\", normalized_mutual_info)\n",
    "print(\"Silhouette Coefficient:\", silhouette_coefficient)\n",
    "print(\"Calinski-Harabasz Index:\", calinski_harabasz_index)\n",
    "print(\"Davies-Bouldin Index:\", davies_bouldin_index)"
   ],
   "metadata": {
    "collapsed": false
   }
  },
  {
   "cell_type": "code",
   "execution_count": null,
   "outputs": [],
   "source": [],
   "metadata": {
    "collapsed": false
   }
  },
  {
   "cell_type": "code",
   "execution_count": null,
   "outputs": [],
   "source": [],
   "metadata": {
    "collapsed": false
   }
  }
 ],
 "metadata": {
  "kernelspec": {
   "display_name": "Python 3",
   "language": "python",
   "name": "python3"
  },
  "language_info": {
   "codemirror_mode": {
    "name": "ipython",
    "version": 2
   },
   "file_extension": ".py",
   "mimetype": "text/x-python",
   "name": "python",
   "nbconvert_exporter": "python",
   "pygments_lexer": "ipython2",
   "version": "2.7.6"
  }
 },
 "nbformat": 4,
 "nbformat_minor": 0
}
