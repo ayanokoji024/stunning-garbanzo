{
 "cells": [
  {
   "cell_type": "code",
   "execution_count": 1,
   "metadata": {
    "collapsed": true
   },
   "outputs": [],
   "source": [
    "from sklearn.datasets import load_iris\n",
    "import pandas as pd\n",
    "\n",
    "iris = load_iris()\n",
    "X = pd.DataFrame(data=iris.data, columns=iris.feature_names)\n",
    "y = iris.target\n",
    "from sklearn.preprocessing import StandardScaler\n",
    "\n",
    "# Initialize the StandardScaler\n",
    "scaler = StandardScaler()\n",
    "\n",
    "# Fit the scaler to the features and transform the data\n",
    "X_scaled = scaler.fit_transform(X)\n",
    "\n",
    "# Convert the standardized features back to a DataFrame (optional)\n",
    "X = pd.DataFrame(X_scaled, columns=iris.feature_names)"
   ]
  },
  {
   "cell_type": "code",
   "execution_count": 3,
   "outputs": [],
   "source": [
    "from sklearn.cluster import KMeans\n",
    "from sklearn.metrics import accuracy_score\n",
    "from itertools import product\n",
    "from sklearn.model_selection import train_test_split\n",
    "\n",
    "number_of_clusters = 3\n",
    "init = 'k-means++'\n",
    "n_init_values = [10,20,30]\n",
    "max_iter_values = [50,100,200,300]\n",
    "tol_values = [1e-3,1e-4,1e-5]\n",
    "precompute_distances_values = [True,False]\n",
    "algorithm_values = ['auto','elkan']\n",
    "split_values = [i/100 for i in range(10,55,5)]\n",
    "\n",
    "best_model = None\n",
    "best_score = float('-inf')\n",
    "best_train_test_ratio = 0.0\n",
    "best_param_list = []\n",
    "best_pred_y = 0\n",
    "best_test_y = 0\n",
    "\n",
    "# model = KMeans(n_clusters=number_of_clusters, init=init, n_init=5000, max_iter=10000000, tol=1e-7)\n",
    "# train_X, test_X, train_y, test_y = train_test_split(X,y,random_state=None,test_size=0.25)\n",
    "# model.fit(train_X,train_y)\n",
    "# pred_y = model.fit_predict(test_X)\n",
    "# score = accuracy_score(test_y,pred_y)\n",
    "# print(score)\n",
    "\n",
    "\n",
    "for n_init, max_iter, tol,precompute_distances, algorithm, split in product(n_init_values,max_iter_values,tol_values,precompute_distances_values,algorithm_values, split_values):\n",
    "    train_X, test_X, train_y, test_y = train_test_split(X,y,random_state=None,test_size=split)\n",
    "    model = KMeans(n_clusters=number_of_clusters, init=init, n_init=n_init, max_iter=max_iter, tol=tol, random_state=None,\n",
    "                   algorithm=algorithm)\n",
    "    model.fit(train_X,train_y)\n",
    "    pred_y = model.fit_predict(test_X)\n",
    "    score = accuracy_score(test_y,pred_y)\n",
    "\n",
    "    if score > best_score:\n",
    "        best_score = score\n",
    "        best_train_test_ratio = split\n",
    "        best_model = model\n",
    "        best_param_list = [n_init, max_iter, tol,precompute_distances, algorithm, split]\n",
    "        best_pred_y = pred_y\n",
    "        best_test_y = test_y"
   ],
   "metadata": {
    "collapsed": false
   }
  },
  {
   "cell_type": "code",
   "execution_count": 4,
   "outputs": [
    {
     "name": "stdout",
     "output_type": "stream",
     "text": [
      "[10, 50, 0.001, False, 'elkan', 0.15]\n",
      "1.0\n",
      "1.0\n"
     ]
    }
   ],
   "source": [
    "print(best_param_list)\n",
    "print(best_score)\n",
    "print(best_score)"
   ],
   "metadata": {
    "collapsed": false
   }
  },
  {
   "cell_type": "code",
   "execution_count": 6,
   "outputs": [
    {
     "name": "stdout",
     "output_type": "stream",
     "text": [
      "              precision    recall  f1-score   support\n",
      "\n",
      "           0       1.00      1.00      1.00         9\n",
      "           1       1.00      1.00      1.00         8\n",
      "           2       1.00      1.00      1.00         6\n",
      "\n",
      "    accuracy                           1.00        23\n",
      "   macro avg       1.00      1.00      1.00        23\n",
      "weighted avg       1.00      1.00      1.00        23\n",
      "\n",
      "Confusion Matrix: \n",
      "\n",
      "[[9 0 0]\n",
      " [0 8 0]\n",
      " [0 0 6]]\n",
      "\n",
      "\n"
     ]
    },
    {
     "data": {
      "text/plain": "<Figure size 800x600 with 2 Axes>",
      "image/png": "[encoded data removed]"
     },
     "metadata": {},
     "output_type": "display_data"
    }
   ],
   "source": [
    "from matplotlib import pyplot as plt\n",
    "from sklearn.metrics import confusion_matrix, classification_report, ConfusionMatrixDisplay\n",
    "\n",
    "cm = confusion_matrix(best_test_y, best_pred_y)\n",
    "print(classification_report(best_test_y,best_pred_y))\n",
    "print(\"Confusion Matrix: \\n\")\n",
    "print(cm)\n",
    "print(\"\\n\")\n",
    "\n",
    "fig, ax = plt.subplots(figsize=(8, 6))\n",
    "cm_display = (ConfusionMatrixDisplay(confusion_matrix=cm, display_labels=[0,1,2]))\n",
    "cm_display.plot(ax=ax, cmap='pink_r', values_format='d')\n",
    "  # Add a title and labels\n",
    "ax.set_title('Confusion Matrix for best model in iris dataset classification using k-means++ clustering')\n",
    "ax.set_xlabel('Predicted Label')\n",
    "ax.set_ylabel('True Label')\n",
    "\n",
    "plt.tight_layout()\n",
    "  # Show the Confusion Matrix\n",
    "plt.show()"
   ],
   "metadata": {
    "collapsed": false
   }
  },
  {
   "cell_type": "code",
   "execution_count": 7,
   "outputs": [
    {
     "name": "stdout",
     "output_type": "stream",
     "text": [
      "Rand Index: 1.0\n",
      "Adjusted Rand Index: 1.0\n",
      "Mutual Information: 1.08501115745815\n",
      "Adjusted Mutual Information: 1.0\n",
      "Normalized Mutual Information: 1.0\n",
      "Silhouette Coefficient: 0.3811261580543803\n",
      "Calinski-Harabasz Index: 191.30360862698998\n",
      "Davies-Bouldin Index: 1.067257040548008\n"
     ]
    }
   ],
   "source": [
    "from sklearn import metrics\n",
    "\n",
    "rand_index = metrics.rand_score(best_test_y, best_pred_y)\n",
    "adjusted_rand_index = metrics.adjusted_rand_score(best_test_y, best_pred_y)\n",
    "\n",
    "# Mutual Information and Adjusted Mutual Information\n",
    "mutual_info = metrics.mutual_info_score(best_test_y, best_pred_y)\n",
    "adjusted_mutual_info = metrics.adjusted_mutual_info_score(best_test_y, best_pred_y)\n",
    "normalized_mutual_info = metrics.normalized_mutual_info_score(best_test_y, best_pred_y)\n",
    "\n",
    "# Silhouette Coefficient, Calinski-Harabasz Index, and Davies-Bouldin Index\n",
    "silhouette_coefficient = metrics.silhouette_score(X, y)\n",
    "calinski_harabasz_index = metrics.calinski_harabasz_score(X, y)\n",
    "davies_bouldin_index = metrics.davies_bouldin_score(X, y)\n",
    "\n",
    "print(\"Rand Index:\", rand_index)\n",
    "print(\"Adjusted Rand Index:\", adjusted_rand_index)\n",
    "print(\"Mutual Information:\", mutual_info)\n",
    "print(\"Adjusted Mutual Information:\", adjusted_mutual_info)\n",
    "print(\"Normalized Mutual Information:\", normalized_mutual_info)\n",
    "print(\"Silhouette Coefficient:\", silhouette_coefficient)\n",
    "print(\"Calinski-Harabasz Index:\", calinski_harabasz_index)\n",
    "print(\"Davies-Bouldin Index:\", davies_bouldin_index)"
   ],
   "metadata": {
    "collapsed": false
   }
  },
  {
   "cell_type": "code",
   "execution_count": null,
   "outputs": [],
   "source": [],
   "metadata": {
    "collapsed": false
   }
  }
 ],
 "metadata": {
  "kernelspec": {
   "display_name": "Python 3",
   "language": "python",
   "name": "python3"
  },
  "language_info": {
   "codemirror_mode": {
    "name": "ipython",
    "version": 2
   },
   "file_extension": ".py",
   "mimetype": "text/x-python",
   "name": "python",
   "nbconvert_exporter": "python",
   "pygments_lexer": "ipython2",
   "version": "2.7.6"
  }
 },
 "nbformat": 4,
 "nbformat_minor": 0
}
