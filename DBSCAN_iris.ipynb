{
 "cells": [
  {
   "cell_type": "code",
   "execution_count": 28,
   "metadata": {
    "collapsed": true
   },
   "outputs": [],
   "source": [
    "from sklearn.datasets import load_iris\n",
    "import pandas as pd\n",
    "\n",
    "iris = load_iris()\n",
    "X = pd.DataFrame(data=iris.data,columns=iris.feature_names)\n",
    "y = iris.target"
   ]
  },
  {
   "cell_type": "code",
   "execution_count": 39,
   "outputs": [],
   "source": [
    "from itertools import product\n",
    "from sklearn.model_selection import train_test_split\n",
    "from sklearn.cluster import DBSCAN\n",
    "from sklearn.metrics import accuracy_score\n",
    "\n",
    "eps_values = [i/10 for i in range(1, 20, 1)]\n",
    "min_samples_values = [i for i in range(3, 21, 1)]\n",
    "metric_values = ['euclidean']\n",
    "algorithm_values = ['auto', 'ball_tree', 'kd_tree', 'brute']\n",
    "p_values = [i for i in range(2,6,1)]\n",
    "split_values = [i/100 for i in range(10,55,5)]\n",
    "\n",
    "best_model = None\n",
    "best_score = float('-inf')\n",
    "best_train_test_ratio = 0.0\n",
    "best_param_list = []\n",
    "best_pred_y = 0\n",
    "best_test_y = 0\n",
    "\n",
    "for eps,min_samples,metric,algorithm,p,split in product(eps_values,min_samples_values,metric_values,algorithm_values,p_values,split_values):\n",
    "\n",
    "    train_X, test_X, train_y, test_y = train_test_split(X,y,random_state=None,test_size=split)\n",
    "    model = DBSCAN(eps=eps,min_samples=min_samples,metric=metric,algorithm=algorithm,p=p)\n",
    "    model.fit(train_X,train_y)\n",
    "    pred_y = model.fit_predict(test_X)\n",
    "    score = accuracy_score(test_y,pred_y)\n",
    "\n",
    "    if score > best_score:\n",
    "        best_score = score\n",
    "        best_train_test_ratio = split\n",
    "        best_model = model\n",
    "        best_param_list = [eps,min_samples,metric,algorithm,p,split]\n",
    "        best_pred_y = pred_y\n",
    "        best_test_y = test_y\n",
    "\n"
   ],
   "metadata": {
    "collapsed": false
   }
  },
  {
   "cell_type": "code",
   "execution_count": 40,
   "outputs": [
    {
     "name": "stdout",
     "output_type": "stream",
     "text": [
      "1.0\n",
      "[0.9, 3, 'euclidean', 'brute', 2, 0.15]\n",
      "0.15\n",
      "[[5.  3.3 1.4 0.2]\n",
      " [4.6 3.2 1.4 0.2]\n",
      " [5.7 2.6 3.5 1. ]\n",
      " [5.1 3.7 1.5 0.4]\n",
      " [5.5 4.2 1.4 0.2]\n",
      " [6.4 3.2 5.3 2.3]\n",
      " [6.  3.4 4.5 1.6]\n",
      " [6.5 3.2 5.1 2. ]\n",
      " [5.  3.2 1.2 0.2]\n",
      " [5.4 3.4 1.5 0.4]\n",
      " [6.4 2.9 4.3 1.3]\n",
      " [5.7 3.8 1.7 0.3]\n",
      " [5.7 3.  4.2 1.2]\n",
      " [5.1 3.4 1.5 0.2]\n",
      " [5.1 3.5 1.4 0.3]\n",
      " [4.9 3.  1.4 0.2]\n",
      " [4.8 3.  1.4 0.1]\n",
      " [5.1 3.3 1.7 0.5]\n",
      " [5.1 3.8 1.6 0.2]\n",
      " [6.5 3.  5.5 1.8]]\n"
     ]
    }
   ],
   "source": [
    "print(best_score)\n",
    "print(best_param_list)\n",
    "print(best_train_test_ratio)\n",
    "print(best_model.components_)"
   ],
   "metadata": {
    "collapsed": false
   }
  },
  {
   "cell_type": "code",
   "execution_count": 41,
   "outputs": [
    {
     "name": "stdout",
     "output_type": "stream",
     "text": [
      "              precision    recall  f1-score   support\n",
      "\n",
      "           0       1.00      1.00      1.00        13\n",
      "           1       1.00      1.00      1.00         5\n",
      "           2       1.00      1.00      1.00         5\n",
      "\n",
      "    accuracy                           1.00        23\n",
      "   macro avg       1.00      1.00      1.00        23\n",
      "weighted avg       1.00      1.00      1.00        23\n",
      "\n",
      "Confusion Matrix: \n",
      "\n",
      "[[13  0  0]\n",
      " [ 0  5  0]\n",
      " [ 0  0  5]]\n",
      "\n",
      "\n"
     ]
    },
    {
     "data": {
      "text/plain": "<Figure size 800x600 with 2 Axes>",
      "image/png": "[encoded data removed]"
     },
     "metadata": {},
     "output_type": "display_data"
    }
   ],
   "source": [
    "from matplotlib import pyplot as plt\n",
    "from sklearn.metrics import confusion_matrix, classification_report, ConfusionMatrixDisplay\n",
    "\n",
    "cm = confusion_matrix(best_test_y, best_pred_y)\n",
    "print(classification_report(best_test_y,best_pred_y))\n",
    "print(\"Confusion Matrix: \\n\")\n",
    "print(cm)\n",
    "print(\"\\n\")\n",
    "\n",
    "fig, ax = plt.subplots(figsize=(8, 6))\n",
    "cm_display = (ConfusionMatrixDisplay(confusion_matrix=cm, display_labels=[0,1,2]))\n",
    "cm_display.plot(ax=ax, cmap='pink_r', values_format='d')\n",
    "  # Add a title and labels\n",
    "ax.set_title('Confusion Matrix for best model in iris dataset classification using DBSCAN clustering')\n",
    "ax.set_xlabel('Predicted Label')\n",
    "ax.set_ylabel('True Label')\n",
    "\n",
    "plt.tight_layout()\n",
    "  # Show the Confusion Matrix\n",
    "plt.show()"
   ],
   "metadata": {
    "collapsed": false
   }
  },
  {
   "cell_type": "code",
   "execution_count": 42,
   "outputs": [
    {
     "name": "stdout",
     "output_type": "stream",
     "text": [
      "Rand Index: 1.0\n",
      "Adjusted Rand Index: 1.0\n",
      "Mutual Information: 0.985984617175194\n",
      "Adjusted Mutual Information: 1.0\n",
      "Normalized Mutual Information: 1.0\n",
      "Silhouette Coefficient: 0.5034774406932961\n",
      "Calinski-Harabasz Index: 487.33087637489984\n",
      "Davies-Bouldin Index: 0.7513707094756737\n"
     ]
    }
   ],
   "source": [
    "from sklearn import metrics\n",
    "\n",
    "rand_index = metrics.rand_score(best_test_y, best_pred_y)\n",
    "adjusted_rand_index = metrics.adjusted_rand_score(best_test_y, best_pred_y)\n",
    "\n",
    "# Mutual Information and Adjusted Mutual Information\n",
    "mutual_info = metrics.mutual_info_score(best_test_y, best_pred_y)\n",
    "adjusted_mutual_info = metrics.adjusted_mutual_info_score(best_test_y, best_pred_y)\n",
    "normalized_mutual_info = metrics.normalized_mutual_info_score(best_test_y, best_pred_y)\n",
    "\n",
    "# Silhouette Coefficient, Calinski-Harabasz Index, and Davies-Bouldin Index\n",
    "silhouette_coefficient = metrics.silhouette_score(X, y)\n",
    "calinski_harabasz_index = metrics.calinski_harabasz_score(X, y)\n",
    "davies_bouldin_index = metrics.davies_bouldin_score(X, y)\n",
    "\n",
    "print(\"Rand Index:\", rand_index)\n",
    "print(\"Adjusted Rand Index:\", adjusted_rand_index)\n",
    "print(\"Mutual Information:\", mutual_info)\n",
    "print(\"Adjusted Mutual Information:\", adjusted_mutual_info)\n",
    "print(\"Normalized Mutual Information:\", normalized_mutual_info)\n",
    "print(\"Silhouette Coefficient:\", silhouette_coefficient)\n",
    "print(\"Calinski-Harabasz Index:\", calinski_harabasz_index)\n",
    "print(\"Davies-Bouldin Index:\", davies_bouldin_index)"
   ],
   "metadata": {
    "collapsed": false
   }
  }
 ],
 "metadata": {
  "kernelspec": {
   "display_name": "Python 3",
   "language": "python",
   "name": "python3"
  },
  "language_info": {
   "codemirror_mode": {
    "name": "ipython",
    "version": 2
   },
   "file_extension": ".py",
   "mimetype": "text/x-python",
   "name": "python",
   "nbconvert_exporter": "python",
   "pygments_lexer": "ipython2",
   "version": "2.7.6"
  }
 },
 "nbformat": 4,
 "nbformat_minor": 0
}
